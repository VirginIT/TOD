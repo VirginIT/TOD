{
 "cells": [
  {
   "cell_type": "code",
   "execution_count": 1,
   "id": "c1ad4d08",
   "metadata": {},
   "outputs": [],
   "source": [
    "import numpy as np"
   ]
  },
  {
   "cell_type": "code",
   "execution_count": 5,
   "id": "de00e919",
   "metadata": {},
   "outputs": [
    {
     "data": {
      "text/plain": [
       "(array([0, 1, 2, 3, 4, 5, 6, 7, 8, 9]), numpy.ndarray)"
      ]
     },
     "execution_count": 5,
     "metadata": {},
     "output_type": "execute_result"
    }
   ],
   "source": [
    "arr = np.array(list(range(10)))\n",
    "arr, type(arr)"
   ]
  },
  {
   "cell_type": "code",
   "execution_count": 7,
   "id": "00de87d9",
   "metadata": {},
   "outputs": [
    {
     "data": {
      "text/plain": [
       "10"
      ]
     },
     "execution_count": 7,
     "metadata": {},
     "output_type": "execute_result"
    }
   ],
   "source": [
    "arr.size"
   ]
  },
  {
   "cell_type": "code",
   "execution_count": 8,
   "id": "b715f1cc",
   "metadata": {},
   "outputs": [
    {
     "data": {
      "text/plain": [
       "(10,)"
      ]
     },
     "execution_count": 8,
     "metadata": {},
     "output_type": "execute_result"
    }
   ],
   "source": [
    "arr.shape"
   ]
  },
  {
   "cell_type": "code",
   "execution_count": 18,
   "id": "34003411",
   "metadata": {},
   "outputs": [
    {
     "data": {
      "text/plain": [
       "(array([[1, 2, 3],\n",
       "        [4, 5, 6]]),\n",
       " (2, 3))"
      ]
     },
     "execution_count": 18,
     "metadata": {},
     "output_type": "execute_result"
    }
   ],
   "source": [
    "arr1 = np.array([[1, 2, 3], [4, 5, 6]])\n",
    "arr1, arr1.shape"
   ]
  },
  {
   "cell_type": "code",
   "execution_count": 21,
   "id": "451d703a",
   "metadata": {},
   "outputs": [],
   "source": [
    "arr2 = arr1.reshape(3, 2)"
   ]
  },
  {
   "cell_type": "code",
   "execution_count": 22,
   "id": "bc77fbc4",
   "metadata": {},
   "outputs": [
    {
     "data": {
      "text/plain": [
       "array([[1, 2],\n",
       "       [3, 4],\n",
       "       [5, 6]])"
      ]
     },
     "execution_count": 22,
     "metadata": {},
     "output_type": "execute_result"
    }
   ],
   "source": [
    "arr2"
   ]
  },
  {
   "cell_type": "code",
   "execution_count": 25,
   "id": "e859512b",
   "metadata": {},
   "outputs": [],
   "source": [
    "arr2[0][0] = 10"
   ]
  },
  {
   "cell_type": "code",
   "execution_count": 26,
   "id": "8a217a11",
   "metadata": {},
   "outputs": [
    {
     "data": {
      "text/plain": [
       "array([[10,  2,  3],\n",
       "       [ 4,  5,  6]])"
      ]
     },
     "execution_count": 26,
     "metadata": {},
     "output_type": "execute_result"
    }
   ],
   "source": [
    "arr1"
   ]
  },
  {
   "cell_type": "code",
   "execution_count": 35,
   "id": "3b29f5f7",
   "metadata": {},
   "outputs": [
    {
     "data": {
      "text/plain": [
       "(array([[10,  2,  3],\n",
       "        [ 4,  5,  6]]),\n",
       " array([[10,  2,  3],\n",
       "        [ 4,  5,  6]]))"
      ]
     },
     "execution_count": 35,
     "metadata": {},
     "output_type": "execute_result"
    }
   ],
   "source": [
    "arr3copy = arr1.copy()\n",
    "arr3copy, arr1"
   ]
  },
  {
   "cell_type": "code",
   "execution_count": 38,
   "id": "caf6b185",
   "metadata": {},
   "outputs": [
    {
     "data": {
      "text/plain": [
       "dtype('int32')"
      ]
     },
     "execution_count": 38,
     "metadata": {},
     "output_type": "execute_result"
    }
   ],
   "source": [
    "arr1.dtype"
   ]
  },
  {
   "cell_type": "code",
   "execution_count": 53,
   "id": "6df56de6",
   "metadata": {},
   "outputs": [
    {
     "data": {
      "text/plain": [
       "(array([[ 3.,  6.,  7.],\n",
       "        [ 5.,  0., 43.]], dtype=float32),\n",
       " dtype('float32'))"
      ]
     },
     "execution_count": 53,
     "metadata": {},
     "output_type": "execute_result"
    }
   ],
   "source": [
    "arr4 = np.array([[3, 6, 7], [5, 0, 43]], 'float32')\n",
    "arr4, arr4.dtype"
   ]
  },
  {
   "cell_type": "code",
   "execution_count": 54,
   "id": "cc0047eb",
   "metadata": {},
   "outputs": [
    {
     "data": {
      "text/plain": [
       "(4, 24)"
      ]
     },
     "execution_count": 54,
     "metadata": {},
     "output_type": "execute_result"
    }
   ],
   "source": [
    "arr4.itemsize, arr4.nbytes"
   ]
  },
  {
   "cell_type": "code",
   "execution_count": 56,
   "id": "3dec264c",
   "metadata": {},
   "outputs": [
    {
     "data": {
      "text/plain": [
       "array([[0, 1, 2, 3, 4],\n",
       "       [5, 6, 7, 8, 9]])"
      ]
     },
     "execution_count": 56,
     "metadata": {},
     "output_type": "execute_result"
    }
   ],
   "source": [
    "arr5 = np.arange(10).reshape(2, 5)\n",
    "arr5"
   ]
  },
  {
   "cell_type": "code",
   "execution_count": 62,
   "id": "9aadb180",
   "metadata": {},
   "outputs": [
    {
     "data": {
      "text/plain": [
       "array([-1.00000000e+00, -9.00000000e-01, -8.00000000e-01, -7.00000000e-01,\n",
       "       -6.00000000e-01, -5.00000000e-01, -4.00000000e-01, -3.00000000e-01,\n",
       "       -2.00000000e-01, -1.00000000e-01, -2.22044605e-16,  1.00000000e-01,\n",
       "        2.00000000e-01,  3.00000000e-01,  4.00000000e-01,  5.00000000e-01,\n",
       "        6.00000000e-01,  7.00000000e-01,  8.00000000e-01,  9.00000000e-01])"
      ]
     },
     "execution_count": 62,
     "metadata": {},
     "output_type": "execute_result"
    }
   ],
   "source": [
    "arr6 = np.arange(-1, 1, 0.1, 'float64')\n",
    "arr6"
   ]
  },
  {
   "cell_type": "code",
   "execution_count": 71,
   "id": "19264a07",
   "metadata": {},
   "outputs": [
    {
     "data": {
      "text/plain": [
       "array([ 1.        ,  1.46551724,  1.93103448,  2.39655172,  2.86206897,\n",
       "        3.32758621,  3.79310345,  4.25862069,  4.72413793,  5.18965517,\n",
       "        5.65517241,  6.12068966,  6.5862069 ,  7.05172414,  7.51724138,\n",
       "        7.98275862,  8.44827586,  8.9137931 ,  9.37931034,  9.84482759,\n",
       "       10.31034483, 10.77586207, 11.24137931, 11.70689655, 12.17241379,\n",
       "       12.63793103, 13.10344828, 13.56896552, 14.03448276, 14.5       ])"
      ]
     },
     "execution_count": 71,
     "metadata": {},
     "output_type": "execute_result"
    }
   ],
   "source": [
    "arr7 = np.linspace(1,15, 30)\n",
    "arr7"
   ]
  },
  {
   "cell_type": "code",
   "execution_count": 76,
   "id": "9ddee05c",
   "metadata": {},
   "outputs": [
    {
     "data": {
      "text/plain": [
       "array([  1.,   2.,   4.,   8.,  16.,  32.,  64., 128., 256.])"
      ]
     },
     "execution_count": 76,
     "metadata": {},
     "output_type": "execute_result"
    }
   ],
   "source": [
    "arr8 = np.geomspace(1, 256, num= 9)\n",
    "arr8"
   ]
  },
  {
   "cell_type": "code",
   "execution_count": 77,
   "id": "8419fbf7",
   "metadata": {},
   "outputs": [
    {
     "data": {
      "text/plain": [
       "array([[1, 0, 0],\n",
       "       [0, 2, 0],\n",
       "       [0, 0, 3]])"
      ]
     },
     "execution_count": 77,
     "metadata": {},
     "output_type": "execute_result"
    }
   ],
   "source": [
    "np.diag([1, 2, 3])"
   ]
  },
  {
   "cell_type": "code",
   "execution_count": 80,
   "id": "4fd353bb",
   "metadata": {},
   "outputs": [
    {
     "data": {
      "text/plain": [
       "array([[0, 0, 0],\n",
       "       [0, 0, 0],\n",
       "       [0, 0, 0]])"
      ]
     },
     "execution_count": 80,
     "metadata": {},
     "output_type": "execute_result"
    }
   ],
   "source": [
    "np.zeros((3,3), int)"
   ]
  },
  {
   "cell_type": "code",
   "execution_count": 83,
   "id": "c318d4e7",
   "metadata": {},
   "outputs": [
    {
     "data": {
      "text/plain": [
       "array([0, 1, 2, 3, 4, 5, 6, 7, 8, 9])"
      ]
     },
     "execution_count": 83,
     "metadata": {},
     "output_type": "execute_result"
    }
   ],
   "source": [
    "arr"
   ]
  },
  {
   "cell_type": "code",
   "execution_count": 99,
   "id": "48b76e0d",
   "metadata": {},
   "outputs": [
    {
     "ename": "TypeError",
     "evalue": "save() got an unexpected keyword argument 'encoding'",
     "output_type": "error",
     "traceback": [
      "\u001b[1;31m---------------------------------------------------------------------------\u001b[0m",
      "\u001b[1;31mTypeError\u001b[0m                                 Traceback (most recent call last)",
      "Cell \u001b[1;32mIn[99], line 1\u001b[0m\n\u001b[1;32m----> 1\u001b[0m np\u001b[38;5;241m.\u001b[39msave(\u001b[38;5;124m'\u001b[39m\u001b[38;5;124ma_ndarr.npy\u001b[39m\u001b[38;5;124m'\u001b[39m, arr, encoding\u001b[38;5;241m=\u001b[39m\u001b[38;5;124m'\u001b[39m\u001b[38;5;124m1251\u001b[39m\u001b[38;5;124m'\u001b[39m)\n",
      "File \u001b[1;32m<__array_function__ internals>:198\u001b[0m, in \u001b[0;36msave\u001b[1;34m(*args, **kwargs)\u001b[0m\n",
      "\u001b[1;31mTypeError\u001b[0m: save() got an unexpected keyword argument 'encoding'"
     ]
    }
   ],
   "source": [
    "np.save('a_ndarr.npy', arr)"
   ]
  },
  {
   "cell_type": "code",
   "execution_count": 88,
   "id": "fa1761a1",
   "metadata": {},
   "outputs": [
    {
     "data": {
      "text/plain": [
       "array([0, 1, 2, 3, 4, 5, 6, 7, 8, 9])"
      ]
     },
     "execution_count": 88,
     "metadata": {},
     "output_type": "execute_result"
    }
   ],
   "source": [
    "a_ld = np.load('a_ndarr.npy')\n",
    "a_ld"
   ]
  },
  {
   "cell_type": "code",
   "execution_count": 89,
   "id": "67d5620b",
   "metadata": {},
   "outputs": [
    {
     "data": {
      "text/plain": [
       "(array([[10,  2,  3],\n",
       "        [ 4,  5,  6]]),\n",
       " array([[0, 1, 2, 3, 4],\n",
       "        [5, 6, 7, 8, 9]]))"
      ]
     },
     "execution_count": 89,
     "metadata": {},
     "output_type": "execute_result"
    }
   ],
   "source": [
    "arr1, arr5"
   ]
  },
  {
   "cell_type": "code",
   "execution_count": 90,
   "id": "69514cd3",
   "metadata": {},
   "outputs": [],
   "source": [
    "np.savez('a1_ndarr.npz', first = arr1, second = arr5 )"
   ]
  },
  {
   "cell_type": "code",
   "execution_count": 93,
   "id": "03a9f86d",
   "metadata": {},
   "outputs": [
    {
     "data": {
      "text/plain": [
       "['first', 'second']"
      ]
     },
     "execution_count": 93,
     "metadata": {},
     "output_type": "execute_result"
    }
   ],
   "source": [
    "np_load = np.load('a1_ndarr.npz')\n",
    "np_load.files"
   ]
  },
  {
   "cell_type": "code",
   "execution_count": 94,
   "id": "c7780500",
   "metadata": {},
   "outputs": [
    {
     "data": {
      "text/plain": [
       "array([[10,  2,  3],\n",
       "       [ 4,  5,  6]])"
      ]
     },
     "execution_count": 94,
     "metadata": {},
     "output_type": "execute_result"
    }
   ],
   "source": [
    "np_load['first']"
   ]
  },
  {
   "cell_type": "code",
   "execution_count": 97,
   "id": "3e866a4b",
   "metadata": {},
   "outputs": [
    {
     "data": {
      "text/plain": [
       "array([[0, 1, 2, 3, 4],\n",
       "       [5, 6, 7, 8, 9]])"
      ]
     },
     "execution_count": 97,
     "metadata": {},
     "output_type": "execute_result"
    }
   ],
   "source": [
    "np_load['second']"
   ]
  },
  {
   "cell_type": "code",
   "execution_count": null,
   "id": "94ac6c17",
   "metadata": {},
   "outputs": [],
   "source": []
  }
 ],
 "metadata": {
  "kernelspec": {
   "display_name": "Python 3 (ipykernel)",
   "language": "python",
   "name": "python3"
  },
  "language_info": {
   "codemirror_mode": {
    "name": "ipython",
    "version": 3
   },
   "file_extension": ".py",
   "mimetype": "text/x-python",
   "name": "python",
   "nbconvert_exporter": "python",
   "pygments_lexer": "ipython3",
   "version": "3.11.4"
  }
 },
 "nbformat": 4,
 "nbformat_minor": 5
}
